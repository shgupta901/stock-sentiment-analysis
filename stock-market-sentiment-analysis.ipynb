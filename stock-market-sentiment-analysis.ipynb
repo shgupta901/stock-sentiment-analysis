{
 "cells": [
  {
   "cell_type": "markdown",
   "metadata": {},
   "source": [
    "This project predicts if the stock price of a company will increase or decrease based on top news headlines"
   ]
  },
  {
   "cell_type": "code",
   "execution_count": 1,
   "metadata": {
    "_cell_guid": "b1076dfc-b9ad-4769-8c92-a6c4dae69d19",
    "_uuid": "8f2839f25d086af736a60e9eeb907d3b93b6e0e5"
   },
   "outputs": [
    {
     "name": "stdout",
     "output_type": "stream",
     "text": [
      "Requirement already satisfied: vaderSentiment in c:\\users\\kiit\\anaconda3\\lib\\site-packages (3.3.2)\n",
      "Requirement already satisfied: requests in c:\\users\\kiit\\anaconda3\\lib\\site-packages (from vaderSentiment) (2.32.3)\n",
      "Requirement already satisfied: charset-normalizer<4,>=2 in c:\\users\\kiit\\anaconda3\\lib\\site-packages (from requests->vaderSentiment) (3.3.2)\n",
      "Requirement already satisfied: idna<4,>=2.5 in c:\\users\\kiit\\anaconda3\\lib\\site-packages (from requests->vaderSentiment) (3.7)\n",
      "Requirement already satisfied: urllib3<3,>=1.21.1 in c:\\users\\kiit\\anaconda3\\lib\\site-packages (from requests->vaderSentiment) (2.3.0)\n",
      "Requirement already satisfied: certifi>=2017.4.17 in c:\\users\\kiit\\anaconda3\\lib\\site-packages (from requests->vaderSentiment) (2025.8.3)\n",
      "Requirement already satisfied: textblob in c:\\users\\kiit\\anaconda3\\lib\\site-packages (0.19.0)\n",
      "Requirement already satisfied: nltk>=3.9 in c:\\users\\kiit\\anaconda3\\lib\\site-packages (from textblob) (3.9.1)\n",
      "Requirement already satisfied: click in c:\\users\\kiit\\anaconda3\\lib\\site-packages (from nltk>=3.9->textblob) (8.1.8)\n",
      "Requirement already satisfied: joblib in c:\\users\\kiit\\anaconda3\\lib\\site-packages (from nltk>=3.9->textblob) (1.4.2)\n",
      "Requirement already satisfied: regex>=2021.8.3 in c:\\users\\kiit\\anaconda3\\lib\\site-packages (from nltk>=3.9->textblob) (2024.11.6)\n",
      "Requirement already satisfied: tqdm in c:\\users\\kiit\\anaconda3\\lib\\site-packages (from nltk>=3.9->textblob) (4.67.1)\n",
      "Requirement already satisfied: colorama in c:\\users\\kiit\\anaconda3\\lib\\site-packages (from click->nltk>=3.9->textblob) (0.4.6)\n"
     ]
    }
   ],
   "source": [
    "!pip install vaderSentiment\n",
    "!pip install textblob"
   ]
  },
  {
   "cell_type": "code",
   "execution_count": 2,
   "metadata": {},
   "outputs": [],
   "source": [
    "import pandas as pd\n",
    "import numpy as np\n",
    "import re\n",
    "import nltk\n",
    "from nltk.stem import WordNetLemmatizer\n",
    "from nltk.tokenize import word_tokenize\n",
    "from textblob import TextBlob\n",
    "from vaderSentiment.vaderSentiment import SentimentIntensityAnalyzer\n",
    "\n",
    "from sklearn.model_selection import train_test_split\n",
    "from sklearn.feature_extraction.text import TfidfVectorizer\n",
    "from sklearn.discriminant_analysis import LinearDiscriminantAnalysis\n",
    "from sklearn.naive_bayes import GaussianNB\n",
    "from sklearn.linear_model import LogisticRegression\n",
    "from sklearn.ensemble import RandomForestClassifier\n",
    "from sklearn.metrics import accuracy_score, classification_report, confusion_matrix, ConfusionMatrixDisplay\n",
    "import matplotlib.pyplot as plt\n",
    "import joblib"
   ]
  },
  {
   "cell_type": "markdown",
   "metadata": {},
   "source": [
    "# 1. Understand the Dataset:"
   ]
  },
  {
   "cell_type": "code",
   "execution_count": 3,
   "metadata": {},
   "outputs": [
    {
     "name": "stdout",
     "output_type": "stream",
     "text": [
      "   Unnamed: 0                                           headline     label\n",
      "0           0  Markets Close Mostly Lower Again; ROST, PANW R...  Negative\n",
      "1           1  Gap plummets on earnings miss, cuts full-year ...  Negative\n",
      "2           2  Billionaire Ken Fisher is Selling These 10 Stocks  Negative\n",
      "3           3          Corning net income drops 13%, shares fall  Negative\n",
      "4           4  Internet Explorer shutdown to cause Japan prob...  Negative\n",
      "(26000, 3)\n"
     ]
    }
   ],
   "source": [
    "df = pd.read_csv(\"stock_news.csv\")\n",
    "print(df.head())\n",
    "print(df.shape)"
   ]
  },
  {
   "cell_type": "code",
   "execution_count": 4,
   "metadata": {},
   "outputs": [
    {
     "name": "stderr",
     "output_type": "stream",
     "text": [
      "[nltk_data] Downloading package punkt to\n",
      "[nltk_data]     C:\\Users\\KIIT\\AppData\\Roaming\\nltk_data...\n",
      "[nltk_data]   Package punkt is already up-to-date!\n",
      "[nltk_data] Downloading package wordnet to\n",
      "[nltk_data]     C:\\Users\\KIIT\\AppData\\Roaming\\nltk_data...\n",
      "[nltk_data]   Package wordnet is already up-to-date!\n"
     ]
    }
   ],
   "source": [
    "nltk.download(\"punkt\")\n",
    "nltk.download(\"wordnet\")\n",
    "\n",
    "lemmatizer = WordNetLemmatizer()"
   ]
  },
  {
   "cell_type": "code",
   "execution_count": 5,
   "metadata": {},
   "outputs": [
    {
     "name": "stderr",
     "output_type": "stream",
     "text": [
      "[nltk_data] Downloading package punkt to\n",
      "[nltk_data]     C:\\Users\\KIIT\\AppData\\Roaming\\nltk_data...\n",
      "[nltk_data]   Package punkt is already up-to-date!\n",
      "[nltk_data] Downloading package wordnet to\n",
      "[nltk_data]     C:\\Users\\KIIT\\AppData\\Roaming\\nltk_data...\n",
      "[nltk_data]   Package wordnet is already up-to-date!\n"
     ]
    }
   ],
   "source": [
    "nltk.download(\"punkt\")\n",
    "nltk.download(\"wordnet\")\n",
    "\n",
    "lemmatizer = WordNetLemmatizer()\n",
    "\n",
    "if \"Combined_News\" not in df.columns:\n",
    "    headline = []\n",
    "    for row in range(0, len(df.index)):\n",
    "        text = \" \".join(str(x) for x in df.iloc[row, 2:])  \n",
    "        headline.append(text)\n",
    "    df[\"Combined_News\"] = headline"
   ]
  },
  {
   "cell_type": "code",
   "execution_count": 6,
   "metadata": {},
   "outputs": [],
   "source": [
    "clean_headline = []\n",
    "for text in df[\"Combined_News\"]:\n",
    "    text = re.sub(r\"[^a-zA-Z ]\", \" \", str(text))  \n",
    "    text = text.lower()\n",
    "    tokens = word_tokenize(text)\n",
    "    text = \" \".join(lemmatizer.lemmatize(tok) for tok in tokens if len(tok) > 2)\n",
    "    clean_headline.append(text)\n",
    "\n",
    "df[\"Cleaned\"] = clean_headline"
   ]
  },
  {
   "cell_type": "code",
   "execution_count": 7,
   "metadata": {},
   "outputs": [],
   "source": [
    "def get_subjectivity(text):\n",
    "    return TextBlob(text).sentiment.subjectivity\n",
    "\n",
    "def get_polarity(text):\n",
    "    return TextBlob(text).sentiment.polarity\n",
    "\n",
    "sia = SentimentIntensityAnalyzer()\n",
    "\n",
    "df[\"Subjectivity\"] = df[\"Cleaned\"].apply(get_subjectivity)\n",
    "df[\"Polarity\"] = df[\"Cleaned\"].apply(get_polarity)\n",
    "\n",
    "compound, neg, pos, neu = [], [], [], []\n",
    "for text in df[\"Cleaned\"]:\n",
    "    score = sia.polarity_scores(text)\n",
    "    compound.append(score[\"compound\"])\n",
    "    neg.append(score[\"neg\"])\n",
    "    pos.append(score[\"pos\"])\n",
    "    neu.append(score[\"neu\"])\n",
    "\n",
    "df[\"compound\"] = compound\n",
    "df[\"neg\"] = neg\n",
    "df[\"pos\"] = pos\n",
    "df[\"neu\"] = neu"
   ]
  },
  {
   "cell_type": "code",
   "execution_count": 8,
   "metadata": {},
   "outputs": [
    {
     "name": "stdout",
     "output_type": "stream",
     "text": [
      "    Cleaned  compound  Sentiment_Label\n",
      "0  negative   -0.5719                0\n",
      "1  negative   -0.5719                0\n",
      "2  negative   -0.5719                0\n",
      "3  negative   -0.5719                0\n",
      "4  negative   -0.5719                0\n"
     ]
    }
   ],
   "source": [
    "df[\"Sentiment_Label\"] = df[\"compound\"].apply(\n",
    "    lambda x: 0 if x <= -0.05 else (2 if x >= 0.05 else 1)\n",
    ")\n",
    "\n",
    "print(df[[\"Cleaned\", \"compound\", \"Sentiment_Label\"]].head())"
   ]
  },
  {
   "cell_type": "code",
   "execution_count": 9,
   "metadata": {},
   "outputs": [],
   "source": [
    "tfidf = TfidfVectorizer(max_features=5000, stop_words=\"english\", lowercase=True, ngram_range=(1,2))\n",
    "X_tfidf = tfidf.fit_transform(df[\"Cleaned\"])\n",
    "\n",
    "sentiment_feats = df[[\"Subjectivity\", \"Polarity\", \"compound\", \"neg\", \"pos\", \"neu\"]].to_numpy()\n",
    "X = np.hstack([sentiment_feats, X_tfidf.toarray()])\n",
    "\n",
    "y = df[\"Sentiment_Label\"].to_numpy()"
   ]
  },
  {
   "cell_type": "code",
   "execution_count": 10,
   "metadata": {},
   "outputs": [],
   "source": [
    "x_train, x_test, y_train, y_test = train_test_split(X, y, test_size=0.2, random_state=42, stratify=y)"
   ]
  },
  {
   "cell_type": "code",
   "execution_count": 15,
   "metadata": {},
   "outputs": [
    {
     "name": "stdout",
     "output_type": "stream",
     "text": [
      "\n",
      "📊 LDA Classification Report:\n",
      "              precision    recall  f1-score   support\n",
      "\n",
      "        Down       1.00      1.00      1.00       961\n",
      "     Neutral       1.00      1.00      1.00      1749\n",
      "          Up       1.00      1.00      1.00      2490\n",
      "\n",
      "    accuracy                           1.00      5200\n",
      "   macro avg       1.00      1.00      1.00      5200\n",
      "weighted avg       1.00      1.00      1.00      5200\n",
      "\n",
      "LDA Accuracy: 1.0\n"
     ]
    }
   ],
   "source": [
    "lda_model = LinearDiscriminantAnalysis()\n",
    "lda_model.fit(x_train, y_train)\n",
    "y_pred = lda_model.predict(x_test)\n",
    "\n",
    "print(\"\\n📊 LDA Classification Report:\")\n",
    "print(classification_report(y_test, y_pred, digits=2, target_names=[\"Down\", \"Neutral\", \"Up\"]))\n",
    "print(\"LDA Accuracy:\", accuracy_score(y_test, y_pred))\n"
   ]
  },
  {
   "cell_type": "code",
   "execution_count": 12,
   "metadata": {},
   "outputs": [
    {
     "data": {
      "image/png": "[encoded data removed]",
      "text/plain": [
       "<Figure size 640x480 with 2 Axes>"
      ]
     },
     "metadata": {},
     "output_type": "display_data"
    }
   ],
   "source": [
    "cm = confusion_matrix(y_test, y_pred)\n",
    "disp = ConfusionMatrixDisplay(confusion_matrix=cm, display_labels=[\"Down\", \"Neutral\", \"Up\"])\n",
    "disp.plot(cmap=plt.cm.Blues)\n",
    "plt.title(\"Confusion Matrix - LDA (3-class)\")\n",
    "plt.show()\n"
   ]
  },
  {
   "cell_type": "code",
   "execution_count": 13,
   "metadata": {},
   "outputs": [
    {
     "name": "stdout",
     "output_type": "stream",
     "text": [
      "\n",
      "GaussianNB Accuracy: 1.0\n",
      "Logistic Regression Accuracy: 1.0\n",
      "Random Forest Accuracy: 1.0\n"
     ]
    }
   ],
   "source": [
    "gnb_model = GaussianNB().fit(x_train, y_train)\n",
    "print(\"\\nGaussianNB Accuracy:\", accuracy_score(y_test, gnb_model.predict(x_test)))\n",
    "\n",
    "lr_model = LogisticRegression(max_iter=1000).fit(x_train, y_train)\n",
    "print(\"Logistic Regression Accuracy:\", accuracy_score(y_test, lr_model.predict(x_test)))\n",
    "\n",
    "rf_model = RandomForestClassifier(n_estimators=100, random_state=42).fit(x_train, y_train)\n",
    "print(\"Random Forest Accuracy:\", accuracy_score(y_test, rf_model.predict(x_test)))\n"
   ]
  },
  {
   "cell_type": "code",
   "execution_count": 14,
   "metadata": {},
   "outputs": [
    {
     "name": "stdout",
     "output_type": "stream",
     "text": [
      "\n",
      "✅ Model saved as stock_sentiment_model2.pkl\n"
     ]
    }
   ],
   "source": [
    "# -------------------------------\n",
    "joblib.dump(lda_model, \"stock_sentiment_model2.pkl\")\n",
    "print(\"\\n✅ Model saved as stock_sentiment_model2.pkl\")"
   ]
  },
  {
   "cell_type": "code",
   "execution_count": null,
   "metadata": {},
   "outputs": [],
   "source": []
  }
 ],
 "metadata": {
  "kaggle": {
   "accelerator": "none",
   "dataSources": [
    {
     "datasetId": 129,
     "sourceId": 792900,
     "sourceType": "datasetVersion"
    }
   ],
   "dockerImageVersionId": 30822,
   "isGpuEnabled": false,
   "isInternetEnabled": false,
   "language": "python",
   "sourceType": "notebook"
  },
  "kernelspec": {
   "display_name": "base",
   "language": "python",
   "name": "python3"
  },
  "language_info": {
   "codemirror_mode": {
    "name": "ipython",
    "version": 3
   },
   "file_extension": ".py",
   "mimetype": "text/x-python",
   "name": "python",
   "nbconvert_exporter": "python",
   "pygments_lexer": "ipython3",
   "version": "3.13.5"
  }
 },
 "nbformat": 4,
 "nbformat_minor": 4
}
